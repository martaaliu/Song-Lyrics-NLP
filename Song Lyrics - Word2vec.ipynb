{
 "cells": [
  {
   "cell_type": "markdown",
   "metadata": {},
   "source": [
    "# Import Packages"
   ]
  },
  {
   "cell_type": "code",
   "execution_count": 2,
   "metadata": {
    "ExecuteTime": {
     "end_time": "2020-11-25T23:19:14.377811Z",
     "start_time": "2020-11-25T23:19:11.700630Z"
    }
   },
   "outputs": [],
   "source": [
    "import pandas as pd\n",
    "import re\n",
    "import matplotlib.pyplot as plt\n",
    "import seaborn as sns\n",
    "import numpy as np\n",
    "import string\n",
    "import gensim  \n",
    "from gensim.models import Word2Vec"
   ]
  },
  {
   "cell_type": "markdown",
   "metadata": {},
   "source": [
    "# Word Embeddings with Word2vec"
   ]
  },
  {
   "cell_type": "code",
   "execution_count": 772,
   "metadata": {
    "ExecuteTime": {
     "end_time": "2020-11-26T01:09:29.034678Z",
     "start_time": "2020-11-26T01:09:28.995675Z"
    }
   },
   "outputs": [
    {
     "data": {
      "text/html": [
       "<div>\n",
       "<style scoped>\n",
       "    .dataframe tbody tr th:only-of-type {\n",
       "        vertical-align: middle;\n",
       "    }\n",
       "\n",
       "    .dataframe tbody tr th {\n",
       "        vertical-align: top;\n",
       "    }\n",
       "\n",
       "    .dataframe thead th {\n",
       "        text-align: right;\n",
       "    }\n",
       "</style>\n",
       "<table border=\"1\" class=\"dataframe\">\n",
       "  <thead>\n",
       "    <tr style=\"text-align: right;\">\n",
       "      <th></th>\n",
       "      <th>Title</th>\n",
       "      <th>URL</th>\n",
       "      <th>Artist</th>\n",
       "      <th>Album</th>\n",
       "      <th>Song ID</th>\n",
       "      <th>Lyrics</th>\n",
       "      <th>Release Date</th>\n",
       "      <th>Featured Artists</th>\n",
       "    </tr>\n",
       "  </thead>\n",
       "  <tbody>\n",
       "    <tr>\n",
       "      <th>0</th>\n",
       "      <td>cardigan</td>\n",
       "      <td>https://genius.com/Taylor-swift-cardigan-lyrics</td>\n",
       "      <td>Taylor Swift</td>\n",
       "      <td>folklore</td>\n",
       "      <td>5793984</td>\n",
       "      <td>Vintage tee brand new phone High heels on cob...</td>\n",
       "      <td>2020-07-24</td>\n",
       "      <td>NaN</td>\n",
       "    </tr>\n",
       "    <tr>\n",
       "      <th>1</th>\n",
       "      <td>Lover</td>\n",
       "      <td>https://genius.com/Taylor-swift-lover-lyrics</td>\n",
       "      <td>Taylor Swift</td>\n",
       "      <td>Lover</td>\n",
       "      <td>4508914</td>\n",
       "      <td>We could leave the Christmas lights up until ...</td>\n",
       "      <td>2019-08-16</td>\n",
       "      <td>NaN</td>\n",
       "    </tr>\n",
       "    <tr>\n",
       "      <th>2</th>\n",
       "      <td>exile</td>\n",
       "      <td>https://genius.com/Taylor-swift-exile-lyrics</td>\n",
       "      <td>Taylor Swift</td>\n",
       "      <td>folklore</td>\n",
       "      <td>5793983</td>\n",
       "      <td>I can see you standing honey With his arms ar...</td>\n",
       "      <td>2020-07-24</td>\n",
       "      <td>Bon Iver</td>\n",
       "    </tr>\n",
       "    <tr>\n",
       "      <th>3</th>\n",
       "      <td>Look What You Made Me Do</td>\n",
       "      <td>https://genius.com/Taylor-swift-look-what-you-...</td>\n",
       "      <td>Taylor Swift</td>\n",
       "      <td>reputation</td>\n",
       "      <td>3210592</td>\n",
       "      <td>I do not like your little games Don't like yo...</td>\n",
       "      <td>2017-08-25</td>\n",
       "      <td>NaN</td>\n",
       "    </tr>\n",
       "    <tr>\n",
       "      <th>4</th>\n",
       "      <td>the 1</td>\n",
       "      <td>https://genius.com/Taylor-swift-the-1-lyrics</td>\n",
       "      <td>Taylor Swift</td>\n",
       "      <td>folklore</td>\n",
       "      <td>5794073</td>\n",
       "      <td>I am doing good I am on some new shit Been sa...</td>\n",
       "      <td>2020-07-24</td>\n",
       "      <td>NaN</td>\n",
       "    </tr>\n",
       "  </tbody>\n",
       "</table>\n",
       "</div>"
      ],
      "text/plain": [
       "                      Title  \\\n",
       "0                  cardigan   \n",
       "1                     Lover   \n",
       "2                     exile   \n",
       "3  Look What You Made Me Do   \n",
       "4                     the 1   \n",
       "\n",
       "                                                 URL        Artist  \\\n",
       "0    https://genius.com/Taylor-swift-cardigan-lyrics  Taylor Swift   \n",
       "1       https://genius.com/Taylor-swift-lover-lyrics  Taylor Swift   \n",
       "2       https://genius.com/Taylor-swift-exile-lyrics  Taylor Swift   \n",
       "3  https://genius.com/Taylor-swift-look-what-you-...  Taylor Swift   \n",
       "4       https://genius.com/Taylor-swift-the-1-lyrics  Taylor Swift   \n",
       "\n",
       "        Album  Song ID                                             Lyrics  \\\n",
       "0    folklore  5793984   Vintage tee brand new phone High heels on cob...   \n",
       "1       Lover  4508914   We could leave the Christmas lights up until ...   \n",
       "2    folklore  5793983   I can see you standing honey With his arms ar...   \n",
       "3  reputation  3210592   I do not like your little games Don't like yo...   \n",
       "4    folklore  5794073   I am doing good I am on some new shit Been sa...   \n",
       "\n",
       "  Release Date Featured Artists  \n",
       "0   2020-07-24              NaN  \n",
       "1   2019-08-16              NaN  \n",
       "2   2020-07-24         Bon Iver  \n",
       "3   2017-08-25              NaN  \n",
       "4   2020-07-24              NaN  "
      ]
     },
     "execution_count": 772,
     "metadata": {},
     "output_type": "execute_result"
    }
   ],
   "source": [
    "#Import song lyrics using the csv file that we exported from the Song Lyrics notebook so that we don't have to clean\n",
    "#or remove punctuation\n",
    "songs_df = pd.read_csv('Taylor Swift Songs & Lyrics - Cleaned with Stopwords.csv')\n",
    "\n",
    "del songs_df['Unnamed: 0']\n",
    "songs_df.head()"
   ]
  },
  {
   "cell_type": "code",
   "execution_count": 773,
   "metadata": {
    "ExecuteTime": {
     "end_time": "2020-11-26T01:09:29.042478Z",
     "start_time": "2020-11-26T01:09:29.036271Z"
    }
   },
   "outputs": [],
   "source": [
    "songs_df = songs_df[~songs_df['Lyrics'].isnull()]"
   ]
  },
  {
   "cell_type": "code",
   "execution_count": 774,
   "metadata": {
    "ExecuteTime": {
     "end_time": "2020-11-26T01:09:29.058167Z",
     "start_time": "2020-11-26T01:09:29.044595Z"
    }
   },
   "outputs": [
    {
     "data": {
      "text/plain": [
       "\" Vintage tee brand new phone High heels on cobblestones When you are young they assume you know nothing Sequin smile black lipstick Sensual politics When you are young they assume you know nothing But I knew you Dancin' in your Levi's Drunk under a streetlight I I knew you Hand under my sweatshirt Baby kiss it better I And when I felt like I was an old cardigan Under someone's bed You put me on and said I was your favorite A friend to all is a friend to none Chase two girls lose the one When you are young they assume you know nothing But I knew you Playing hideandseek and Giving me your weekends I I knew you Your heartbeat on the High Line Once in twenty lifetimes I And when I felt like I was an old cardigan Under someone's bed You put me on and said I was your favorite To kiss in cars and downtown bars Was all we needed You drew stars around my scars But now I am bleedin' 'Cause I knew you Steppin' on the last train Marked me like a bloodstain I I knew you Tried to change the ending Peter losing Wendy I I knew you Leavin' like a father Running like water I And when you are young they assume you know nothing But I knew you would linger like a tattoo kiss I knew you would haunt all of my whatifs The smell of smoke would hang around this long 'Cause I knew everything when I was young I knew I would curse you for the longest time Chasin' shadows in the grocery line I knew you would miss me once the thrill expired And you would be standin' in my front porch light And I knew you would come back to me You'd come back to me And you would come back to me And you would come back And when I felt like I was an old cardigan Under someone's bed You put me on and said I was your favorite\""
      ]
     },
     "execution_count": 774,
     "metadata": {},
     "output_type": "execute_result"
    }
   ],
   "source": [
    "words_list = list(songs_df['Lyrics'])\n",
    "words_list[0]"
   ]
  },
  {
   "cell_type": "code",
   "execution_count": 775,
   "metadata": {
    "ExecuteTime": {
     "end_time": "2020-11-26T01:09:29.074430Z",
     "start_time": "2020-11-26T01:09:29.058167Z"
    }
   },
   "outputs": [
    {
     "data": {
      "text/plain": [
       "245"
      ]
     },
     "execution_count": 775,
     "metadata": {},
     "output_type": "execute_result"
    }
   ],
   "source": [
    "len(words_list)"
   ]
  },
  {
   "cell_type": "code",
   "execution_count": 776,
   "metadata": {
    "ExecuteTime": {
     "end_time": "2020-11-26T01:09:29.109645Z",
     "start_time": "2020-11-26T01:09:29.076316Z"
    }
   },
   "outputs": [],
   "source": [
    "#Tokenize\n",
    "for i in range(0, len(words_list)):\n",
    "    words_list[i] = words_list[i].split(\" \")\n",
    "    words_list[i] = [word.lower() for word in words_list[i]]"
   ]
  },
  {
   "cell_type": "code",
   "execution_count": 864,
   "metadata": {
    "ExecuteTime": {
     "end_time": "2020-11-26T01:18:22.938803Z",
     "start_time": "2020-11-26T01:18:18.025358Z"
    }
   },
   "outputs": [],
   "source": [
    "#Train our model. We use CBOW (sg=0) as the training algorithm\n",
    "model = Word2Vec(words_list, min_count=1, size=15, iter=30)"
   ]
  },
  {
   "cell_type": "code",
   "execution_count": 910,
   "metadata": {
    "ExecuteTime": {
     "end_time": "2020-11-26T01:31:02.945241Z",
     "start_time": "2020-11-26T01:31:02.927392Z"
    }
   },
   "outputs": [
    {
     "data": {
      "text/plain": [
       "3850"
      ]
     },
     "execution_count": 910,
     "metadata": {},
     "output_type": "execute_result"
    }
   ],
   "source": [
    "#Total number of words in our model\n",
    "words = list(model.wv.vocab)\n",
    "len(words)"
   ]
  },
  {
   "cell_type": "code",
   "execution_count": 866,
   "metadata": {
    "ExecuteTime": {
     "end_time": "2020-11-26T01:18:22.998787Z",
     "start_time": "2020-11-26T01:18:22.960209Z"
    }
   },
   "outputs": [
    {
     "data": {
      "text/plain": [
       "[('pouring', 0.9591746926307678),\n",
       " ('stand', 0.8497084379196167),\n",
       " ('till', 0.8368631601333618),\n",
       " ('came', 0.8281205892562866),\n",
       " ('torn', 0.8085092902183533)]"
      ]
     },
     "execution_count": 866,
     "metadata": {},
     "output_type": "execute_result"
    }
   ],
   "source": [
    "model.wv.most_similar('rain', topn=5)"
   ]
  },
  {
   "cell_type": "code",
   "execution_count": 867,
   "metadata": {
    "ExecuteTime": {
     "end_time": "2020-11-26T01:18:23.022179Z",
     "start_time": "2020-11-26T01:18:23.002779Z"
    }
   },
   "outputs": [
    {
     "data": {
      "text/plain": [
       "[('fair', 0.8940576314926147),\n",
       " ('cool', 0.8932722210884094),\n",
       " ('dying', 0.856455385684967),\n",
       " ('indifference', 0.8445634841918945),\n",
       " ('chill', 0.82901930809021)]"
      ]
     },
     "execution_count": 867,
     "metadata": {},
     "output_type": "execute_result"
    }
   ],
   "source": [
    "model.wv.most_similar('delicate', topn=5)"
   ]
  },
  {
   "cell_type": "code",
   "execution_count": 874,
   "metadata": {
    "ExecuteTime": {
     "end_time": "2020-11-26T01:18:46.410807Z",
     "start_time": "2020-11-26T01:18:46.400417Z"
    }
   },
   "outputs": [
    {
     "data": {
      "text/plain": [
       "[('false', 0.8486543297767639),\n",
       " ('amen', 0.8011736273765564),\n",
       " ('grounded', 0.7809576392173767),\n",
       " ('sane', 0.7784403562545776),\n",
       " ('2017', 0.777910590171814)]"
      ]
     },
     "execution_count": 874,
     "metadata": {},
     "output_type": "execute_result"
    }
   ],
   "source": [
    "model.wv.most_similar('god', topn=5)"
   ]
  },
  {
   "cell_type": "code",
   "execution_count": 908,
   "metadata": {
    "ExecuteTime": {
     "end_time": "2020-11-26T01:30:23.475968Z",
     "start_time": "2020-11-26T01:30:23.461740Z"
    }
   },
   "outputs": [
    {
     "data": {
      "text/plain": [
       "[('loyalty', 0.9644086360931396),\n",
       " ('shiniest', 0.9556193351745605),\n",
       " ('test', 0.9524044394493103),\n",
       " ('generosity', 0.9523181319236755),\n",
       " ('civility', 0.9522550106048584)]"
      ]
     },
     "execution_count": 908,
     "metadata": {},
     "output_type": "execute_result"
    }
   ],
   "source": [
    "model.wv.most_similar(positive=['wedding', 'ring'], topn=5)"
   ]
  },
  {
   "cell_type": "code",
   "execution_count": 888,
   "metadata": {
    "ExecuteTime": {
     "end_time": "2020-11-26T01:23:53.983508Z",
     "start_time": "2020-11-26T01:23:53.962214Z"
    }
   },
   "outputs": [
    {
     "data": {
      "text/plain": [
       "[('ray', 0.7882522344589233),\n",
       " ('jewels', 0.7699120044708252),\n",
       " ('tide', 0.7352606058120728),\n",
       " ('first', 0.7291228771209717),\n",
       " ('very', 0.728222131729126)]"
      ]
     },
     "execution_count": 888,
     "metadata": {},
     "output_type": "execute_result"
    }
   ],
   "source": [
    "model.wv.most_similar(positive=['sunshine', 'day'], negative=['hate'], topn=5)"
   ]
  },
  {
   "cell_type": "code",
   "execution_count": 877,
   "metadata": {
    "ExecuteTime": {
     "end_time": "2020-11-26T01:19:33.454643Z",
     "start_time": "2020-11-26T01:19:33.441565Z"
    }
   },
   "outputs": [
    {
     "data": {
      "text/plain": [
       "'crowds'"
      ]
     },
     "execution_count": 877,
     "metadata": {},
     "output_type": "execute_result"
    }
   ],
   "source": [
    "model.wv.doesnt_match(\"green blue gold crowds\".split())"
   ]
  }
 ],
 "metadata": {
  "kernelspec": {
   "display_name": "Python 3",
   "language": "python",
   "name": "python3"
  },
  "language_info": {
   "codemirror_mode": {
    "name": "ipython",
    "version": 3
   },
   "file_extension": ".py",
   "mimetype": "text/x-python",
   "name": "python",
   "nbconvert_exporter": "python",
   "pygments_lexer": "ipython3",
   "version": "3.8.5"
  }
 },
 "nbformat": 4,
 "nbformat_minor": 4
}
